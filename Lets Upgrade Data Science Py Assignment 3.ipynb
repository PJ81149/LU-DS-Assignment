{
 "cells": [
  {
   "cell_type": "markdown",
   "metadata": {},
   "source": [
    "# Question 1"
   ]
  },
  {
   "cell_type": "code",
   "execution_count": 6,
   "metadata": {},
   "outputs": [],
   "source": [
    "#importing numpy with alias name np\n",
    "import numpy as np"
   ]
  },
  {
   "cell_type": "code",
   "execution_count": 12,
   "metadata": {},
   "outputs": [
    {
     "name": "stdout",
     "output_type": "stream",
     "text": [
      "[ 2  5  8 11 14 17 20 23 26 29 32 35 38 41 44 47]\n"
     ]
    }
   ],
   "source": [
    "#creating an array with step 3 \n",
    "arr=np.arange(2,50,3)\n",
    "print(arr)"
   ]
  },
  {
   "cell_type": "markdown",
   "metadata": {},
   "source": [
    "# Question 2"
   ]
  },
  {
   "cell_type": "code",
   "execution_count": 16,
   "metadata": {},
   "outputs": [
    {
     "name": "stdout",
     "output_type": "stream",
     "text": [
      "Enter elements for list1:1\n",
      "Enter elements for list1:2\n",
      "Enter elements for list1:9\n",
      "Enter elements for list1:8\n",
      "Enter elements for list1:6\n",
      "Enter elements for list2:7\n",
      "Enter elements for list2:5\n",
      "Enter elements for list2:11\n",
      "Enter elements for list2:12\n",
      "Enter elements for list2:56\n",
      "Array after concatenation: [ 1  2  9  8  6  7  5 11 12 56]\n",
      "Sorted array: [ 1  2  5  6  7  8  9 11 12 56]\n"
     ]
    }
   ],
   "source": [
    "list1,list2=[],[]\n",
    "\n",
    "#colleccting elements into arrays\n",
    "for i in range(5):\n",
    "    x=int(input(\"Enter elements for list1:\"))\n",
    "    list1.append(x)\n",
    "for i in range(5):\n",
    "    x=int(input(\"Enter elements for list2:\"))\n",
    "    list2.append(x)\n",
    "\n",
    "#converting llist into arrays\n",
    "arr1=np.array(list1)\n",
    "arr2=np.array(list2)\n",
    "\n",
    "#array concatenation\n",
    "arr=np.concatenate((arr1,arr2))\n",
    "print(\"Array after concatenation:\",arr)\n",
    "\n",
    "#array sorting\n",
    "sortedarr=np.sort(arr)\n",
    "print(\"Sorted array:\",sortedarr)"
   ]
  },
  {
   "cell_type": "markdown",
   "metadata": {},
   "source": [
    "# Question 3"
   ]
  },
  {
   "cell_type": "code",
   "execution_count": 21,
   "metadata": {},
   "outputs": [
    {
     "name": "stdout",
     "output_type": "stream",
     "text": [
      "[[1 2 3 9]\n",
      " [1 2 4 8]] \n",
      "Dimensions of the array :  2\n",
      "[[1 2 3 9]\n",
      " [1 2 4 8]\n",
      " [3 5 8 9]] \n",
      "Dimensions of the array :  2\n"
     ]
    }
   ],
   "source": [
    "arr = np.array([[1,2,3,9],[1,2,4,8]])\n",
    "print(arr,\"\\nDimensions of the array : \",arr.ndim)\n",
    "arr1 = np.array([[1,2,3,9],[1,2,4,8],[3,5,8,9]])\n",
    "print(arr1,\"\\nDimensions of the array : \",arr1.ndim)"
   ]
  },
  {
   "cell_type": "markdown",
   "metadata": {},
   "source": [
    "# Question 4"
   ]
  },
  {
   "cell_type": "code",
   "execution_count": 30,
   "metadata": {},
   "outputs": [
    {
     "name": "stdout",
     "output_type": "stream",
     "text": [
      "[1 2 3 4 5 6 7] \n",
      "Shape of Array : (7,)\n",
      "\n",
      "Shape of 2d Array in row major : (1, 7)\n",
      "\n",
      "Shape of 2d Array in column major : (7, 1)\n"
     ]
    }
   ],
   "source": [
    "arr = np.arange(1,8)\n",
    "print(arr,\"\\nShape of Array :\",arr.shape)\n",
    "\n",
    "add_row_arr = arr[np.newaxis, :]\n",
    "print(\"\\nShape of 2d Array in row major :\",add_row_arr.shape)\n",
    "\n",
    "# converting using newaxis in column wise\n",
    "add_col_arr = arr[:, np.newaxis]\n",
    "print(\"\\nShape of 2d Array in column major :\",add_col_arr.shape)"
   ]
  },
  {
   "cell_type": "markdown",
   "metadata": {},
   "source": [
    "# Or"
   ]
  },
  {
   "cell_type": "code",
   "execution_count": 44,
   "metadata": {},
   "outputs": [
    {
     "name": "stdout",
     "output_type": "stream",
     "text": [
      "array:\n",
      " [1 2 3]\n",
      "(3,)\n",
      "\n",
      "array:\n",
      " [[1 2 3]]\n"
     ]
    },
    {
     "data": {
      "text/plain": [
       "(1, 3)"
      ]
     },
     "execution_count": 44,
     "metadata": {},
     "output_type": "execute_result"
    }
   ],
   "source": [
    "x=np.array([1,2,3])\n",
    "print(\"array:\\n\",x)\n",
    "#shape\n",
    "print(x.shape)\n",
    "\n",
    "y=np.expand_dims(x,axis=0)\n",
    "print(\"\\narray:\\n\",y)\n",
    "y.shape"
   ]
  },
  {
   "cell_type": "markdown",
   "metadata": {},
   "source": [
    "# Question 5"
   ]
  },
  {
   "cell_type": "code",
   "execution_count": 50,
   "metadata": {},
   "outputs": [
    {
     "name": "stdout",
     "output_type": "stream",
     "text": [
      "Horizontal append:\n",
      " [1 2 3 5 6 7]\n",
      "Horizontal append:\n",
      " [[1 2 3]\n",
      " [5 6 7]]\n"
     ]
    }
   ],
   "source": [
    "arr1=np.array([1,2,3])\n",
    "arr2=np.array([5,6,7])\n",
    "print(\"Horizontal append:\\n\",np.hstack((arr1,arr2)))\n",
    "print(\"Horizontal append:\\n\",np.vstack((arr1,arr2)))"
   ]
  },
  {
   "cell_type": "markdown",
   "metadata": {},
   "source": [
    "# Question 6"
   ]
  },
  {
   "cell_type": "code",
   "execution_count": 49,
   "metadata": {},
   "outputs": [
    {
     "name": "stdout",
     "output_type": "stream",
     "text": [
      "[[ 2  1]\n",
      " [ 5  1]\n",
      " [ 6  1]\n",
      " [ 7  2]\n",
      " [ 8  2]\n",
      " [11  2]\n",
      " [16  1]\n",
      " [25  2]\n",
      " [55  2]\n",
      " [86  2]]\n"
     ]
    }
   ],
   "source": [
    "#Creating an array \n",
    "arr_1 = np.array([55,86,55, 16, 25, 11,8, 25, 86, 2, 7, 6, 5, 7, 8, 11])\n",
    "\n",
    "# getting unique charater and its count\n",
    "unique, counts = np.unique(arr_1, return_counts=True)\n",
    "arr = np.asarray((unique, counts)).T\n",
    "print(arr)"
   ]
  },
  {
   "cell_type": "code",
   "execution_count": null,
   "metadata": {},
   "outputs": [],
   "source": []
  }
 ],
 "metadata": {
  "kernelspec": {
   "display_name": "Python 3",
   "language": "python",
   "name": "python3"
  },
  "language_info": {
   "codemirror_mode": {
    "name": "ipython",
    "version": 3
   },
   "file_extension": ".py",
   "mimetype": "text/x-python",
   "name": "python",
   "nbconvert_exporter": "python",
   "pygments_lexer": "ipython3",
   "version": "3.8.3"
  }
 },
 "nbformat": 4,
 "nbformat_minor": 4
}
