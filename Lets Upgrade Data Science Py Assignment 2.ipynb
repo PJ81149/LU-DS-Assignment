{
 "cells": [
  {
   "cell_type": "markdown",
   "metadata": {},
   "source": [
    "# Assignment 2"
   ]
  },
  {
   "cell_type": "markdown",
   "metadata": {},
   "source": [
    "# Question 1"
   ]
  },
  {
   "cell_type": "code",
   "execution_count": 23,
   "metadata": {},
   "outputs": [
    {
     "name": "stdout",
     "output_type": "stream",
     "text": [
      "Enter a Number:1\n",
      "Enter a Number:2\n",
      "Enter a Number:3\n",
      "Enter a Number:4\n",
      "Enter a Number:5\n",
      "Enter a Number:6\n",
      "Enter a Number:7\n",
      "Enter a Number:8\n",
      "Enter a Number:9\n",
      "Enter a Number:10\n",
      "[2, 4, 6, 8, 10]\n"
     ]
    }
   ],
   "source": [
    "list1=[]\n",
    "for i in range(10):\n",
    "    input_number=int(input(\"Enter a Number:\"))\n",
    "    if(input_number%2==0):\n",
    "        list1.append(input_number)\n",
    "print(list1)"
   ]
  },
  {
   "cell_type": "markdown",
   "metadata": {},
   "source": [
    "# Question2"
   ]
  },
  {
   "cell_type": "markdown",
   "metadata": {},
   "source": [
    "###### List comprehensions are used for creating new lists from other iterables. As list comprehensions return lists, they consist of brackets containing the expression, which is executed for each element along with the for loop to iterate over each element."
   ]
  },
  {
   "cell_type": "code",
   "execution_count": 24,
   "metadata": {},
   "outputs": [
    {
     "name": "stdout",
     "output_type": "stream",
     "text": [
      "[1, 2, 3, 4, 5, 6, 7, 8, 9, 10]\n",
      "[11, 12, 13, 14, 15, 16, 17, 18]\n",
      "[11, 12, 13, 14, 15, 16, 17, 18, 20]\n",
      "[11, 12, 13, 14, 15, 16, 17, 18, 19, 20]\n",
      "[1, 2, 3, 4, 5, 6, 7, 8, 9, 10, 11, 12, 13, 14, 15, 16, 17, 18, 19, 20]\n",
      "[1, 2, 3, 4, 5, 6, 7, 8, 9, 10, 11, 12, 13, 14, 15, 16, 17, 18, 19]\n"
     ]
    }
   ],
   "source": [
    "lst=[1,2,3,4,5,6,7,8,9,10]\n",
    "print(lst)\n",
    "list1=[i for i in range(11,19)]\n",
    "print(list1)\n",
    "#list.append(x)\n",
    "list1.append(20)\n",
    "print(list1)\n",
    "#list.insert(i, x)\n",
    "list1.insert(8,19)\n",
    "print(list1)\n",
    "#list.extend(iterable)\n",
    "lst.extend(list1)\n",
    "print(lst)\n",
    "#list.remove(x)\n",
    "lst.remove(20)\n",
    "print(lst)"
   ]
  },
  {
   "cell_type": "markdown",
   "metadata": {},
   "source": [
    "# Question 3"
   ]
  },
  {
   "cell_type": "code",
   "execution_count": 27,
   "metadata": {},
   "outputs": [
    {
     "name": "stdout",
     "output_type": "stream",
     "text": [
      "10\n",
      "{1: 1, 2: 4, 3: 9, 4: 16, 5: 25, 6: 36, 7: 49, 8: 64, 9: 81, 10: 100}\n"
     ]
    }
   ],
   "source": [
    "#collecting size of dictionary\n",
    "n=int(input())\n",
    "dict1={i:i*i for i in range(1,n+1)}\n",
    "print(dict1)"
   ]
  },
  {
   "cell_type": "markdown",
   "metadata": {},
   "source": [
    "# Question 4"
   ]
  },
  {
   "cell_type": "code",
   "execution_count": 5,
   "metadata": {},
   "outputs": [
    {
     "name": "stdout",
     "output_type": "stream",
     "text": [
      "4\n",
      "UP 10\n",
      "RIGHT 20\n",
      "DOWN 4\n",
      "LEFT 10\n",
      "12\n"
     ]
    }
   ],
   "source": [
    "import math\n",
    "#declaring orgin\n",
    "x,y=0,0\n",
    "#Getting number of movements from user\n",
    "n=int(input(\"\"))\n",
    "for i in range(n):\n",
    "    movement=input()\n",
    "    movement=movement.split(\" \")\n",
    "    #Movements    \n",
    "    if movement[0]=='UP':\n",
    "        y+=int(movement[1])\n",
    "    elif movement[0]=='DOWN':\n",
    "        y-=int(movement[1])\n",
    "    elif movement[0]=='LEFT':\n",
    "        x-=int(movement[1])\n",
    "    elif movement[0]=='RIGHT':\n",
    "        x+=int(movement[1])\n",
    "#Calculating distance\n",
    "result=math.sqrt(x**2+y**2)\n",
    "print(round(result))"
   ]
  }
 ],
 "metadata": {
  "kernelspec": {
   "display_name": "Python 3",
   "language": "python",
   "name": "python3"
  }
 },
 "nbformat": 4,
 "nbformat_minor": 4
}
